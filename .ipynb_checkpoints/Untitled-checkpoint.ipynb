{
 "cells": [
  {
   "cell_type": "code",
   "execution_count": 14,
   "id": "e0b0def2",
   "metadata": {},
   "outputs": [],
   "source": [
    "import pandas as pd\n",
    "from langchain_openai.chat_models import AzureChatOpenAI\n",
    "from langchain.prompts import PromptTemplate"
   ]
  },
  {
   "cell_type": "code",
   "execution_count": 8,
   "id": "1cdc8a26",
   "metadata": {},
   "outputs": [],
   "source": [
    "import config\n",
    "from dataclasses import asdict"
   ]
  },
  {
   "cell_type": "code",
   "execution_count": 67,
   "id": "4a33436e",
   "metadata": {},
   "outputs": [],
   "source": [
    "azureopenai=AzureChatOpenAI(**asdict(config.OpenAIConfig()))"
   ]
  },
  {
   "cell_type": "code",
   "execution_count": 89,
   "id": "3578e311",
   "metadata": {},
   "outputs": [],
   "source": [
    "df=pd.read_excel(\"Tata Steel Vs JSW Steel.xlsx\")"
   ]
  },
  {
   "cell_type": "code",
   "execution_count": 60,
   "id": "9de5a47c",
   "metadata": {},
   "outputs": [],
   "source": [
    "template=PromptTemplate.from_template('''\n",
    "Extract the information provided in the given analysis, extract the exact number, do not provide any verbose. Sumamrize the results\n",
    "\n",
    "// Extract only the numbers ith a little context\n",
    "\n",
    "KPI\n",
    "----------\n",
    "{kpi}\n",
    "\n",
    "Analysis\n",
    "----------\n",
    "{analysis}\n",
    "''')"
   ]
  },
  {
   "cell_type": "code",
   "execution_count": 61,
   "id": "b4614d24",
   "metadata": {},
   "outputs": [],
   "source": [
    "chain= template | azureopenai"
   ]
  },
  {
   "cell_type": "code",
   "execution_count": 62,
   "id": "c11cebc0",
   "metadata": {},
   "outputs": [],
   "source": [
    "ll=df.to_dict(orient='records')"
   ]
  },
  {
   "cell_type": "code",
   "execution_count": 63,
   "id": "1e86486f",
   "metadata": {},
   "outputs": [],
   "source": [
    "import tqdm"
   ]
  },
  {
   "cell_type": "code",
   "execution_count": 64,
   "id": "8f11348a",
   "metadata": {},
   "outputs": [
    {
     "name": "stderr",
     "output_type": "stream",
     "text": [
      "100%|█████████████████████████████████████████████████████████████████████████████████████████████████████████████████████████████████████| 18/18 [35:56<00:00, 119.80s/it]\n"
     ]
    }
   ],
   "source": [
    "final_df=[]\n",
    "for info in tqdm.tqdm(ll):\n",
    "    \n",
    "    out_tata=chain.invoke({\n",
    "        'kpi':info['KPI'],\n",
    "        \"analysis\":info[\"Tata steel Analysis\"]\n",
    "    })\n",
    "    out_jsw=chain.invoke({\n",
    "        'kpi':info['KPI'],\n",
    "        \"analysis\":info[\"JSW Steel Analysis\"]\n",
    "    })\n",
    "    final_df.append({\n",
    "        \"KPI\":info['KPI'],\n",
    "        \"Tata steel Analysis\":out_tata.content,\n",
    "        \"JSW Steel Analysis\":out_jsw.content\n",
    "    })"
   ]
  },
  {
   "cell_type": "code",
   "execution_count": 66,
   "id": "12b449bd",
   "metadata": {},
   "outputs": [],
   "source": [
    "pd.DataFrame(final_df).to_csv(\"Extracted Data gpt4.csv\",index=False)"
   ]
  },
  {
   "cell_type": "code",
   "execution_count": 69,
   "id": "1740f94a",
   "metadata": {},
   "outputs": [],
   "source": [
    "template=PromptTemplate.from_template('''\n",
    "Given the data Below can you provide a comparative summary between the performance of Tata Steels and JSW Steels for the given KPIS\n",
    "\n",
    "KPI\n",
    "----------\n",
    "{kpi}\n",
    "\n",
    "Analysis Tata Steel\n",
    "----------\n",
    "{tataanalysis}\n",
    "\n",
    "Analysis JSW Steel\n",
    "----------\n",
    "{jswanalysis}\n",
    "\n",
    "''')"
   ]
  },
  {
   "cell_type": "code",
   "execution_count": 70,
   "id": "4b5ec094",
   "metadata": {},
   "outputs": [],
   "source": [
    "chain= template | azureopenai"
   ]
  },
  {
   "cell_type": "code",
   "execution_count": 71,
   "id": "5bd48c86",
   "metadata": {},
   "outputs": [
    {
     "name": "stderr",
     "output_type": "stream",
     "text": [
      "100%|██████████████████████████████████████████████████████████████████████████████████████████████████████████████████████████████████████| 18/18 [00:53<00:00,  2.95s/it]\n"
     ]
    }
   ],
   "source": [
    "final_df=[]\n",
    "for info in tqdm.tqdm(ll):\n",
    "    \n",
    "    out_tata=chain.invoke({\n",
    "        'kpi':info['KPI'],\n",
    "        \"tataanalysis\":info[\"Tata steel Analysis\"],\n",
    "        \"jswanalysis\":info[\"JSW Steel Analysis\"]\n",
    "    })\n",
    "    final_df.append({\n",
    "        \"KPI\":info['KPI'],\n",
    "        \"Tata steel Analysis\":info[\"Tata steel Analysis\"],\n",
    "        \"JSW Steel Analysis\":info[\"JSW Steel Analysis\"],\n",
    "        \"Summary\": out_tata.content\n",
    "    })"
   ]
  },
  {
   "cell_type": "code",
   "execution_count": 73,
   "id": "d6f7325a",
   "metadata": {},
   "outputs": [],
   "source": [
    "pd.DataFrame(final_df).to_csv(\"ExtarctedSummary.csv\",index=False)"
   ]
  },
  {
   "cell_type": "code",
   "execution_count": 83,
   "id": "578c4e17",
   "metadata": {},
   "outputs": [],
   "source": [
    "dd=['can you please provide an in depth analysis of the M.Cap. of tata steel?',\n",
    "'can you please provide an in depth analysis on the crude steel capacity of tata steel and their further expansion plans',\n",
    "'can you please provide an in depth analysis on the market share of tata steel and their breakup in domestic and international sales',\n",
    "'can you provide the start date and the expected completion date for the capex projects of Tata Steel',\n",
    "'Can you provide the EBITDA of Tata Steel for different quarters(Q) and fiscal years (FY)?',\n",
    "'Can you provide insights on the sales of JSW steel in tons?',\n",
    "'Can you provide insights on the sales growth of JSW steel?',\n",
    "'Can you provide insights on JSW steels plans and planned initiatives for growing their sales?',\n",
    "'What are the primary factors driving revenue growth for Tata Steel for FY2022-23 and FY2021-22?'\n",
    "'What is the reason behind revenue growth for JSW Steel for FY2022-23 and FY2021-22?'\n",
    "'Can you provide a comparison of the reasons for revenue growth of JSW Steel and Tata steel for FY2022-23 and FY2021-22?',\n",
    "'How is the financial performance and trends of Tata steel as compared to JSW? Give the answer in a table format',\n",
    "'What are the primary factors driving revenue growth for Tata Steel for FY2022-23 and FY2021-22?'\n",
    "]\n",
    "\n"
   ]
  },
  {
   "cell_type": "code",
   "execution_count": 84,
   "id": "7a7423b4",
   "metadata": {},
   "outputs": [],
   "source": [
    "ll_str=[]\n",
    "for d in dd:\n",
    "    ll_str.append(f'Input: {d}\\nOutput: QA')"
   ]
  },
  {
   "cell_type": "code",
   "execution_count": 85,
   "id": "3f23cabf",
   "metadata": {},
   "outputs": [
    {
     "name": "stdout",
     "output_type": "stream",
     "text": [
      "Input: can you please provide an in depth analysis of the M.Cap. of tata steel?\n",
      "Output: QA\n",
      "\n",
      "Input: can you please provide an in depth analysis on the crude steel capacity of tata steel and their further expansion plans\n",
      "Output: QA\n",
      "\n",
      "Input: can you please provide an in depth analysis on the market share of tata steel and their breakup in domestic and international sales\n",
      "Output: QA\n",
      "\n",
      "Input: can you provide the start date and the expected completion date for the capex projects of Tata Steel\n",
      "Output: QA\n",
      "\n",
      "Input: Can you provide the EBITDA of Tata Steel for different quarters(Q) and fiscal years (FY)?\n",
      "Output: QA\n",
      "\n",
      "Input: Can you provide insights on the sales of JSW steel in tons?\n",
      "Output: QA\n",
      "\n",
      "Input: Can you provide insights on the sales growth of JSW steel?\n",
      "Output: QA\n",
      "\n",
      "Input: Can you provide insights on JSW steels plans and planned initiatives for growing their sales?\n",
      "Output: QA\n",
      "\n",
      "Input: What are the primary factors driving revenue growth for Tata Steel for FY2022-23 and FY2021-22?What is the reason behind revenue growth for JSW Steel for FY2022-23 and FY2021-22?Can you provide a comparison of the reasons for revenue growth of JSW Steel and Tata steel for FY2022-23 and FY2021-22?\n",
      "Output: QA\n",
      "\n",
      "Input: How is the financial performance and trends of Tata steel as compared to JSW? Give the answer in a table format\n",
      "Output: QA\n",
      "\n",
      "Input: What are the primary factors driving revenue growth for Tata Steel for FY2022-23 and FY2021-22?\n",
      "Output: QA\n"
     ]
    }
   ],
   "source": [
    "print(\"\\n\\n\".join(ll_str))"
   ]
  },
  {
   "cell_type": "code",
   "execution_count": 109,
   "id": "f6dda62c",
   "metadata": {},
   "outputs": [],
   "source": [
    "df=pd.read_excel(\"Tata Steel Vs JSW Steel 1.xlsx\")"
   ]
  },
  {
   "cell_type": "code",
   "execution_count": 110,
   "id": "a1dd386c",
   "metadata": {},
   "outputs": [],
   "source": [
    "df=df.drop(7)"
   ]
  },
  {
   "cell_type": "code",
   "execution_count": 103,
   "id": "2a2d1893",
   "metadata": {},
   "outputs": [],
   "source": [
    "initial_=df.to_markdown()"
   ]
  },
  {
   "cell_type": "code",
   "execution_count": 104,
   "id": "fcd6f920",
   "metadata": {},
   "outputs": [],
   "source": [
    "final_=pd.read_excel(\"ExtarctedSummary.xlsx\").to_markdown()"
   ]
  },
  {
   "cell_type": "code",
   "execution_count": 105,
   "id": "71356602",
   "metadata": {},
   "outputs": [],
   "source": [
    "responce=f\"### Detailed Analysis of KPI's:  \\n {initial_}  \\n  \\n ### Summazied Analysis of KPI's \\n {final_}\""
   ]
  },
  {
   "cell_type": "code",
   "execution_count": 106,
   "id": "7f8dc6e6",
   "metadata": {},
   "outputs": [],
   "source": [
    "with open(\"index.txt\",'w', encoding=\"utf-8\") as f:\n",
    "    f.write(responce)"
   ]
  },
  {
   "cell_type": "code",
   "execution_count": 112,
   "id": "cf102289",
   "metadata": {
    "scrolled": false
   },
   "outputs": [
    {
     "name": "stdout",
     "output_type": "stream",
     "text": [
      "{'KPI': 'Market Cap & Enterprise Value', 'Tata steel Analysis': 'the market capitalization of Tata Steel was INR 1362.1 billion or USD 16.5 billion', 'JSW Steel Analysis': 'the market capitalization of JSW Steel was INR 1791 billion or USD 22.1 billion.'}\n",
      "{'KPI': 'Crude steel capacity growth projection for FY 30 & beyond', 'Tata steel Analysis': \"Tata Steel's India crude steel production capacity is 19.6 MnTPA, with facilities in Jamshedpur, Gamharia, Kalinganagar, and Meramandali. They are currently undergoing a Phase-II expansion of the Kalinganagar plant to increase crude steel capacity to 8 MnTPA. Tata Steel has also acquired Bhushan Steel, which has made them one of the largest producers of Cold Rolled Coil and Tube products in India. They are planning to double their crude steel capacity to 40 MnTPA by 2030. In Europe, Tata Steel has a crude steel production capacity of over 12.4 MnTPA. They have downstream operations in various countries, supplying high-quality strip steel products. In Thailand, Tata Steel operates with multiple plants.\", 'JSW Steel Analysis': 'JSW Steel currently has an installed crude steel capacity of 27.7 MTPA. They have embarked on capacity expansion plans to increase their overall capacity to 38.5 MTPA by the end of FY 2024-25. They are expanding the capacity at their Vijayanagar plant from 12 MTPA to 19.5 MTPA and the capacity at their Jharsuguda plant from 3.5 MTPA to 5 MTPA. JSW Steel plans to further expand their domestic steel capacity to 50 MTPA by FY 2030-31.'}\n",
      "{'KPI': 'Domestic Market share', 'Tata steel Analysis': \"\\nTata Steel reported sales of 18.22 million tonnes (MnT) during FY2022-23, with domestic sales totaling 15.14 MnT and exports accounting for 1.61 MnT. The company's automotive and special products segment recorded sales of 2.38 MnT, while branded products, retail, and solutions segment recorded sales of 5.85 MnT. Industrial products and projects segment recorded sales of 6.91 MnT. Overall, FY2022-23 was a year of best-ever sales performance for Tata Steel, driven by strong domestic sales in all three verticals.\", 'JSW Steel Analysis': \"JSW Steel has a strong focus on increasing its market share in the Value-added and Special Products (VASP) segment. In FY 2021-22, the share of VASP in the overall sales mix was 60%. This growth was driven by increased domestic sales in the automotive, solar, and appliance segments. The domestic sales to exports ratio has remained constant at 72:28 over the past two years. The company's domestic sales mix by industry includes 28% OEM/Industrial, 72% Retail, and 16% Auto. The company has a significant market share in the coated steel segment, with Galvanised and Galvalume products accounting for 12.4% of the total product mix. In the domestic market, GI & GL products have a 43% market share. The company has seen growth in sales volume, with domestic sales reaching 12.97 million tonnes in FY 2021-22. The share of exports in total sales dropped to 13% in FY 2022-23, down from 28% in the previous year and with a total sales volume of 19.67 million tonnes in FY 2022-23\"}\n",
      "{'KPI': 'Comparison of speed in implementation of capital project (CWIP)', 'Tata steel Analysis': 'Tata Steel is currently working on several key capex projects. Some of the notable projects include:\\n\\n\\n\\n    Expansion project in Kalinganagar: Tata Steel is focused on completing the expansion project in Kalinganagar to create a state-of-the-art 8 million tonnes per annum (MnTPA) site. This expansion includes the commissioning of the Pellet Plant, which is 70% complete, and the phase-wise commissioning of the Cold Rolling Mill Complex.\\n\\n\\n\\n    Acquisition of Neelachal Ispat Nigam Limited (NINL): Tata Steel is in the process of acquiring NINL, which is expected to become the long products business hub in the future. The plant has been non-operational for some time, but Tata Steel plans to start operations in about six months from the transaction closure and ramp up to its rated billet making capacity of 1.1 MnTPA within 12 months.\\n\\n\\n\\n    Doubling of ductile iron pipes facilities in Tata Metaliks: Tata Steel is doubling its ductile iron pipes facilities in Tata Metaliks in Kharagpur.\\n\\n\\n\\n    Special Bar and Wire Rod-Combi Mill: Tata Steel is setting up a Special Bar and Wire Rod-Combi Mill in Jamshedpur, which is focused on the automotive market.\\n\\n\\n\\n    Expansion of tinplate capacity: Tata Steel is expanding its tinplate capacity by expanding the plant by 0.3 MnTPA.\\n\\n', 'JSW Steel Analysis': 'JSW Steel has undertaken several capex projects. Here are some of the key projects:\\n\\n\\n\\nAcquisition of Vallabh Tinplate Limited (VTPL) with a crude steel capacity of 1.2 MTPA and finishing capacity of 1.3 MTPA.\\n\\nAcquisition of JSW Ohio (previously Acero Junction) with an integrated steel plant capacity of 1.5 MNTPA and finishing capacity of 3 MNTPA.\\n\\nDevelopment and commissioning of a 13.2 MTPA greenfield steel plant in Jagatsinghpur district, Odisha, along with a 900 MW captive power plant.\\n\\nBrownfield expansions at Vijayanagar and Bhushan Power and Steel Limited (BPSL) to reach a steelmaking capacity of 37 MTPA by FY 2024-25.\\n\\nVision to reach a total capacity of 50 MTPA in India by FY 2030-31.\\n\\nStrategic partnerships with Severfield UK PLC, Marubeni-Itochu Steel, and Structural Metal Decks Limited.'}\n",
      "{'KPI': 'Operational efficiency comparison (EBITDA, EBITDA / t)', 'Tata steel Analysis': \"The EBITDA of Tata Steel for different quarters and fiscal years is as follows:\\n\\n\\n\\nFor the first nine months of the financial year FY2023, the consolidated EBITDA was Rs 25,472 crores, with an EBITDA margin of ~14%.\\n\\nIn the first quarter of FY22, the consolidated EBITDA was Rs 4,154 crores, with an EBITDA margin of ~7%.\\n\\nIn the second quarter of FY22, the consolidated adjusted EBITDA increased to Rs 17,810 crores.\\n\\nFor FY2022, the consolidated EBITDA was Rs 63,830 crores.\\n\\nFor FY2023, the consolidated EBITDA was Rs 32,698 crores, with an EBITDA margin of ~13%.\\n\\nThe standalone EBITDA margin was higher at 21%.\\n\\nIn the fourth quarter of FY23, the consolidated EBITDA was Rs 7,225 crores, with an EBITDA margin of ~11%.\\n\\nThe company achieved its highest ever quarterly consolidated EBITDA of Rs 16,185 crores in a quarter.\\n\\nThe company's net debt to EBITDA ratio improved to 1.59x.\", 'JSW Steel Analysis': 'Here are the EBITDA values of JSW Steel for all quarters (Q) of FY 2021-22 and FY 2022-23:\\n\\n\\nFY 2021-22:\\n\\n\\n\\n\\nQ1 FY 2021-22:\\n\\n\\n\\nNo available EBITDA information.\\n\\n\\n\\n\\nQ2 FY 2021-22:\\n\\n\\n\\nOperating EBITDA: ₹10,417 crores\\n\\nEBITDA margin: 32.0%\\n\\n\\n\\n\\nQ3 FY 2021-22:\\n\\n\\n\\nNo available EBITDA information.\\n\\n\\n\\n\\nQ4 FY 2021-22:\\n\\n\\n\\nNo available EBITDA information.\\n\\nFY 2021-22:\\n\\nOperatinng EBITDA :  ₹39,007 crores\\n\\n\\nFY 2022-23:\\n\\n\\n\\n\\nQ1 FY 2022-23:\\n\\n\\n\\nOperating EBITDA: ₹3,352 crores\\n\\n\\n\\n\\nQ2 FY 2022-23:\\n\\n\\n\\nOperating EBITDA: ₹4,547 crores\\n\\nEBITDA margin: 11.6%\\n\\n\\n\\n\\nQ3 FY 2022-23:\\n\\n\\n\\nOperating EBITDA: ₹6,247 crores\\n\\nEBITDA margin: 16.8%\\n\\n\\n\\n\\nQ4 FY 2022-23:\\n\\n\\n\\nOperating EBITDA: ₹6,247 crores\\n\\n\\nOperating EBITDA : ₹18,547 crores\\n\\nPlease note that there may be missing or unavailable EBITDA information for certain quarters.\\n\\n\\n\\nRelated Questions:\\n1. What was the EBITDA margin for Q2 FY 2021-22?\\n\\n2. Can you provide the EBITDA for Q3 FY 2022-23?\\n\\n3. Is there any EBITDA information available for Q1 FY 2021-22?\\n\\nCan you provide the EBITDA of JSW Steel for FY 21-22 and FY22-23?\\nAnswer:\\nHere are the EBITDA values of JSW Steel for FY 2021-22 and FY 2022-23:\\n\\n\\nFY 2021-22:\\n\\n\\n\\nNo available EBITDA information.\\n\\n\\nFY 2022-23:\\n\\n\\n\\nOperating EBITDA: ₹7,939 crores\\n'}\n",
      "{'KPI': 'Comparison of employee productivity', 'Tata steel Analysis': 'Tata Steel reported an employee productivity of 885 tonnes of crude steel per employee per year in FY 2022-23. ', 'JSW Steel Analysis': 'JSW Steel reported an employee productivity of 1623.49 tonnes of crude steel per employee per year in FY 2022-23. '}\n",
      "{'KPI': 'Location of manufacturing facilities Vs Location of consumption', 'Tata steel Analysis': 'Tata Steel has manufacturing locations in India and outside India. In India, they have 64 plants and 139 offices, while outside India, they have 40 plants and 28 offices. The company serves markets in 28 states and 8 union territories in India, as well as 79 countries internationally. The revenue split for Tata Steel shows that they generated 7% of their total revenue from exports in FY2022-23.\\n1. India : Tata steel has manufacturing plants in Jamshedpur, Gamharia, Kalinganagar and Meramandali. These plants are strategically located in different parts of India to cater to the domestic market. The proximity of these locations to consumer locations within India can vary based on factors such as the location of Infrastructre projects, industries, and population centres\\n\\n2. UK and Europe :  Tata Steel operates manufacturing facilities in Port Talbot, Wales and IJmuiden, Netherlands. These plants primarily serve the UK and European markets. The proximity of these locations to consumer locations in the UK and Europe allows for efficient distribution within the region.\\n\\n3. Thailand : Tata Steel has manufacturing plants in Chonburi Province, Saraburi Province and Rayong Province in Thailand. These facilities cater to local Thai market and other countries in Southeast Asia. The proximity of these locations to consumer locations in the region contributes to efficient logistics and distribution', 'JSW Steel Analysis': \"r:\\nBased on the information provided in the documents, JSW Steel has strategically positioned itself in key locations across India, the USA, and Italy. The majority of its production capacity is met by the company's four Integrated Steel Plants (ISPs) located in Vijayanagar, Dolvi, Salem, and Odisha. The manufacturing unit in Vijayanagar, Karnataka is the largest single-location steel-producing facility in India with a capacity of 12.0 MTPA.\\n\\n\\nJSW Steel also has a strong export presence spanning 100 countries. In addition to its manufacturing locations, JSW Steel has one of the largest distributor and retailer networks in India, with a distinct customer base. It has exclusive and non-exclusive retail outlets, as well as a network of 370 distributors and a presence across 1,500 towns.\\n\\n\\nThe geographical proximity of JSW Steel's manufacturing locations to consumer locations is not explicitly mentioned in the provided documents. However, the strategic positioning of its manufacturing plants across different regions in India suggests that JSW Steel aims to cater to the domestic market efficiently. With a strong distribution network and export presence, JSW Steel is able to reach consumers both within India and internationally. \"}\n",
      "{'KPI': 'Sales Growth', 'Tata steel Analysis': \"During FY2022-23, Tata Steel reported sales of 18.22 million tonnes, which is a 3% increase compared to the previous year. The sales performance across different verticals is as follows:\\n\\n\\n\\nAutomotive & Special products: Sales of 2.38 million tonnes, a 7% YoY growth.\\n\\nBranded Products, Retail & Solutions: Sales of 5.85 million tonnes, a 9% YoY growth.\\n\\nIndustrial Products & Projects: Sales of 6.91 million tonnes, a 14% YoY growth.\\n\\nDomestic sales: 15.14 million tonnes, a 11% YoY growth.\\n\\nExports: 1.61 million tonnes, a 38% YoY decline.\\n\\nTotal deliveries: 18.22 million tonnes, a 3% YoY growth.\\n\\n\\nFY2022-23 was the year of best-ever sales performance for Tata Steel, driven by strong domestic sales performance across all three sales verticals. Automotive sales witnessed robust demand in the passenger vehicle and commercial vehicle segments. Tata Steel also achieved growth in the branded products, retail, and solutions segment. The company's consolidated financial performance showed an increase in revenue and a decline in operating EBITDA and profit after tax compared to the previous year.\\n\\n\\n\", 'JSW Steel Analysis': \"The sales growth of JSW Steel in FY 2021-22 was significant. The company achieved the highest-ever annual consolidated crude steel production of 19.51 million tonnes, with a growth of 29% year-on-year. The sales volume also improved, reaching 18.18 million tonnes, a growth of 21% year-on-year. The company's consolidated revenue from operations increased by 83% to ₹146,371 crore. The sales mix showed an increase in the share of value-added and special products (VASP), accounting for 60% of total sales volumes. Exports accounted for 28% of total sales. The company also completed capacity expansion projects and improved its financial profile, including a reduction in net gearing and improved credit ratings. In Q2 FY 2022-23, the company reported a net loss after tax of ₹915 crores.\"}\n",
      "{'KPI': 'Sales Growth Plan', 'Tata steel Analysis': 'Tata Steel reported its highest ever steel sales volume of 19.67 MnT, with a 19% YoY growth. Domestic sales increased by 38% YoY, driven by government infrastructure projects and increased demand from the auto sector. Export sales accounted for 9% of total sales, down 50% YoY. Revenue from operations grew by 11% YoY to ₹131,687 crore. Operating EBITDA declined by 52% YoY to ₹15,371 crore. Profit after tax decreased by 70% YoY to ₹4,937 crore. Tata Steel plans to focus on organic expansion in India and aims to double its production capacity by 2030. They are also diversifying their product offerings beyond steel by introducing new materials in composites, graphene, and medical materials. The company aims to consolidate its position as a global cost leader by focusing on operational and structural cost improvement initiatives. In terms of sales, Tata Steel achieved best-ever performance in automotive and special products, branded products and retail, and industrial products and projects. They also saw growth in the engineering segment and downstream business. Steel exports contributed to sales, with increased exports to countries like France, South Korea, and the UK.', 'JSW Steel Analysis': \"Based on the available information, here are some insights on JSW Steel's plans and initiatives for growing their sales:\\n\\n\\n\\n\\nCapacity Expansion: JSW Steel has been focusing on expanding its capacity to meet the growing demand for steel. They have doubled their crude steel capacity in Dolvi to 10 million tonnes per annum (MTPA) and have completed the capacity expansion at Vijayanagar's CRM-1 complex. These expansions will contribute to increased production and sales volume.\\n\\n\\n\\n\\nProduct Innovation: JSW Steel is committed to delivering high-quality and innovative products to its customers. They have enhanced their focus on research and development (R&D) initiatives and have developed 58 new grades of steel. The company aims to strengthen its market share in the Value-added and Special Products (VASP) segment by continuously upgrading its product offerings.\\n\\n\\n\\n\\nDiversification: JSW Steel aims to diversify its product portfolio to cater to different industry segments. They have been focusing on the sale of value-added and special products (VASP), which accounted for 60% of total sales volumes in FY 2021-22. This diversification strategy helps JSW Steel tap into new markets and increase sales.\\n\\n\\n\\n\\nStrong Branding: JSW Steel has established strong product brands over the years, which enjoy considerable market share. In FY 2021-22, branded products accounted for 47% of total retail sales. By maintaining and strengthening their brand presence, JSW Steel aims to attract more customers and increase sales.\\n\\n\\n\\n\\nExport Focus: JSW Steel has been actively involved in export activities, with exports accounting for 28% of total sales in FY 2021-22. They have been exporting steel to various countries and aim to expand their presence in the global market. However, it is important to note that export volumes in FY 2022-23 experienced a decline due to the imposition of export duties.\\n\\n\\n\\n\\nThese are some of the planned initiatives and strategies that JSW Steel is implementing to grow their sales. \"}\n",
      "{'KPI': 'Revenue ', 'Tata steel Analysis': 'The consolidated revenue of Tata Steel for FY 2021-22 was ₹2,43,352.69 crore and for FY 2022-23 was ₹2,43,959.17 crore.', 'JSW Steel Analysis': 'The consolidated revenue of JSW Steel for FY 21-22 was ₹146,371 crore, and for FY 22-23 it was ₹1,65,960 crore.\\n\\n\\n'}\n",
      "{'KPI': 'Capital allocation ', 'Tata steel Analysis': 'Tata Steel has allocated a total of approximately Rs. 14,142 crore for capital expenditure in the fiscal year 2022-23. This includes investments in the ongoing expansion of the Kalinganagar Plant and the establishment of a scrap and EAF based long products plant as part of their decarbonization strategy. In Europe, the company has allocated capital for transitioning to steel production using green hydrogen and for blast furnace relining projects.\\n\\n\\n', 'JSW Steel Analysis': 'JSW Steel is a leading integrated steel company with a capacity of 28.5 MTPA in India and the USA. They have a strong capital allocation strategy focused on capturing value-accretive opportunities while maintaining leverage below stated levels. Their capital expansion projects include a 5mtpa brownfield expansion at Vijayanagar and a Phase-II expansion at BPSL. The company aims to reach a total production capacity of 37 MTPA in India by FY 2024-25. They have received positive ratings from credit agencies and have a conservative approach to bidding and maintaining debt levels. The company has also implemented various strategies for risk management and sustainability practices.'}\n",
      "{'KPI': 'CAPEX', 'Tata steel Analysis': \"Tata Steel had a consolidated EBITDA of Rs 32,698 crores with an EBITDA margin of 13% and EBITDA per ton of Rs 11,358. The company's India business generated a margin of 20% while Europe was at 5%. The consolidated ROIC was 15% for the full year. The company's capital expenditure for the quarter was Rs 4,396 crores, with a focus on completing the 5 MTPA Kalinganagar expansion. The net debt stands at Rs 67,810 crores, and the company aims to resume its deleveraging journey in FY2024. The projected capital expenditure for FY2023-24 is Rs 16,000 crores, with a significant allocation towards the ongoing Kalinganagar expansion and downstream projects in India. The company also approved the amalgamation of seven subsidiaries and an associate company into Tata Steel.\", 'JSW Steel Analysis': 'JSW Steel has undertaken various capital expenditure programs to expand its manufacturing capacities and modernize its downstream business. The capacity expansion projects include increasing the capacity at the Vijayanagar Works from 12 MTPA to 19.5 MTPA and at the Jharsuguda plant from 3.5 MTPA to 5 MTPA. The company plans to expand its domestic steel capacity to 50 MTPA by FY 2030-31. JSW Steel also has international operations in the US and Italy. The company has achieved significant financial growth, with consolidated revenue increasing by 83% in FY 2021-22. The company has made investments in technology and research and development to improve the environmental and social impacts of its products and processes. JSW Steel has a strong focus on sustainability and has received recognition for its sustainability practices.'}\n",
      "{'KPI': '  M&A', 'Tata steel Analysis': \"In different years, Tata Steel engaged in various merger and acquisition activities. Some key activities include:\\n\\n\\n\\n\\nAmalgamation of Bamnipal Steel Limited and Tata Steel BSL Limited into Tata Steel Limited. The scheme was approved by the shareholders in March 2021, and the merger became effective in November 2021.\\n\\n\\n\\n\\nAcquisition of Neelachal Ispat Nigam Limited by Tata Steel Long Products Limited (TSLP) in January 2022. This strategic acquisition will help boost Tata Steel's long products business.\\n\\n\\n\\n\\nAcquisition of a stake in Ceramat Private Limited by Tata Steel Limited through its subsidiary Tata Steel Advanced Materials Limited. This acquisition was completed in March 2022.\\n\\n\\n\\n\\nAcquisition of itemized assets from Stork Ferro and Mineral Industries Private Limited in March 2022.\\n\\n\\n\\n\\nAcquisition of the entire stake held by Steel Authority of India Limited in S & T Mining Company Limited in April 2022. S&T Mining became a wholly-owned subsidiary of Tata Steel.\\n\\n\\n\\n\\nAmalgamation of Tata Steel Long Products Limited, The Tinplate Company of India Limited, Tata Metaliks Limited, and TRF Limited into Tata Steel Limited. The schemes of amalgamation were approved by the Board in September 2022 and are subject to approval from shareholders and regulatory authorities.\\n\", 'JSW Steel Analysis': 'JSW Steel has engaged in various merger and acquisition activities in different years. In FY 2022-23, JSW Steel acquired Bhushan Power and Steel Limited (BPSL), which operates a 3.50 MTPA integrated steel plant in Odisha. The merger with BPSL resulted in JSW Steel holding 83.28% equity in PSL, making it a subsidiary of JSW Steel. The financial performance of BPSL in FY 2022-23 showed a decline in EBITDA and profit after tax compared to the previous year.\\n\\n\\nIn addition to the BPSL merger, JSW Steel also carried out other mergers and acquisitions. The Company merged its wholly-owned subsidiaries ACCIL and HSL with JSW Steel. The merger of VIL and JVTPL, wholly-owned subsidiaries of JSW Steel, with JSW Coated was also completed. JSW Coated issued shares to JSW Steel as part of the merger.\\n\\n\\nJSW Steel continues to evaluate acquisition opportunities that are value accretive while maintaining financial discipline. The Company aims to increase its domestic steel capacity to 37 MTPA by FY 2024-25.'}\n",
      "{'KPI': 'R&D', 'Tata steel Analysis': \"Tata Steel's Research and Development (R&D) team focuses on areas such as reducing greenhouse gas emissions, achieving water neutrality, and using low-grade raw materials.\\n\\nThe company has made progress in setting up high-end technology-driven plants for CO2 capture and cyanide removal.\\n\\nThey are conducting research programs in collaboration with institutes to produce hydrogen through sustainable processes.\\n\\nThe R&D team has developed a novel slag modifier that allows smooth Blast Furnace operations and a new variant of pearlitic steel.\\n\\nThey have also established a facility to study deformation behavior of steels during crashes.\\n\\nTata Steel has strong R&D centers in India, the Netherlands, and the UK, collaborating with academic institutes and universities.\\n\\nThe company has filed a significant number of patent applications and focuses on intellectual property creation.\\n\\nThey have developed innovative products for automotive, construction, and oil & gas industries.\\n\\nR&D initiatives aim to achieve low-carbon transition, reduce freshwater consumption, and maximize value from waste.\\n\\nTata Steel has implemented advanced flotation technology and launched decarbonization programs.\\n\\nThey continue to work on the HIsarna project for novel iron production technology and focus on data-driven solutions.\\n\\nThe company emphasizes innovation and collaborates with research and industrial organizations.\", 'JSW Steel Analysis': 'SW Steel focuses on leveraging its strengths and capabilities to achieve excellence in the steel industry. They have a differentiated product mix and state-of-the-art manufacturing facilities. In terms of research and development, JSW Steel is actively involved in industry-institute partnerships and collaborative projects with leading academic and research institutes in India. They are working on various areas such as process intensification, productivity improvement, resource utilization optimization, and waste utilization. JSW Steel aims to strengthen its market share in the value-added and special products segment and invests in continuous product upgrades. They have achieved significant growth in coated steel, automotive, and appliance sales. Overall, JSW Steel is executing its strategic growth plan in line with the growing steel demand and supported by a strong steel cycle.\\n\\n\\n'}\n",
      "{'KPI': 'Cash dividends ', 'Tata steel Analysis': 'For the financial year 2022-23, Tata Steel has recommended a dividend of ₹3.60 per Ordinary (equity) Share of face value ₹1/- each. The dividend is subject to the approval of the shareholders at the Annual General Meeting and will be paid on and from Monday, July 10, 2023. The total dividend payout is estimated to be around ₹4,400 crore.', 'JSW Steel Analysis': 'The recommended dividend for the year FY 2022-23 for JSW Steel is ₹3.40 per equity share.'}\n",
      "{'KPI': 'Upcoming projects- growth related', 'Tata steel Analysis': 'The upcoming projects, initiatives, and growth plans for Tata Steel include capacity expansion at TSK Phase 2, progress on electro-mechanical erection for Iron Ore Processing Plant at Joda East and Noamundi Iron Ore Mine, engineering for 1 MTPA New Battery and mechanical erection for Air Separation Unit at Jamshedpur, and planning for doubling its crude steel capacity to ~40 MTPA by 2030. The company is focusing on capability building initiatives, improvement in construction safety, and reducing its CO2 footprint. Tata Steel aims to achieve market leadership in India, consolidate its position as a global cost leader, attain leadership position in adjacent businesses, and become a leader in sustainability. The company is working on various expansion projects, including the commissioning of the Pellet Plant and Cold Rolling Mill Complex in Kalinganagar, the acquisition of Neelachal Ispat Nigam Limited, and the establishment of a Special Bar and Wire Rod-Combi Mill in Jamshedpur. The company is also venturing into the New Materials Business, focusing on composites, graphene, and medical materials.', 'JSW Steel Analysis': \"JSW Steel has several upcoming projects and growth plans. They have acquired Vallabh Tinplate Limited, which will add 1 MTPA of crude steel capacity. They have also acquired JSW Steel Piombino Works and JSW Ohio, which will provide synergies and market access to the European and US markets respectively. Additionally, JSW Steel is working on the development and commissioning of a 13.2 MTPA greenfield steel plant in Odisha, along with a 900 MW captive power plant. Their near-term outlook includes completing their capex projects as planned and reaching a steelmaking capacity of 37 MTPA by FY 2024-25. Their long-term vision is to reach a capacity of 50 MTPA in India by FY 2030-31. They also aim to maintain and grow their share of steel production in India, consolidate their presence as a global player, and contribute to India's National Steel Mission.\\n\\n\\n\"}\n"
     ]
    }
   ],
   "source": [
    "ddff=[]\n",
    "for d in df.to_dict(orient='records'):\n",
    "    _temp={\n",
    "        \"KPI\":d['KPI'],\n",
    "        'Tata steel Analysis':d['Tata steel Analysis'].replace(\"\\n\\n\",\" \"),\n",
    "        \"'JSW Steel Analysis'\":d['JSW Steel Analysis'].replace(\"\\n\\n\",\" \"),\n",
    "    },\n",
    "    "
   ]
  },
  {
   "cell_type": "code",
   "execution_count": null,
   "id": "87c88445",
   "metadata": {},
   "outputs": [],
   "source": []
  }
 ],
 "metadata": {
  "kernelspec": {
   "display_name": "Python 3 (ipykernel)",
   "language": "python",
   "name": "python3"
  },
  "language_info": {
   "codemirror_mode": {
    "name": "ipython",
    "version": 3
   },
   "file_extension": ".py",
   "mimetype": "text/x-python",
   "name": "python",
   "nbconvert_exporter": "python",
   "pygments_lexer": "ipython3",
   "version": "3.11.5"
  }
 },
 "nbformat": 4,
 "nbformat_minor": 5
}
