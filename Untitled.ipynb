{
 "cells": [
  {
   "cell_type": "code",
   "execution_count": 14,
   "id": "b465aef2",
   "metadata": {},
   "outputs": [],
   "source": [
    "import pandas as pd\n",
    "from langchain_openai.chat_models import AzureChatOpenAI\n",
    "from langchain.prompts import PromptTemplate"
   ]
  },
  {
   "cell_type": "code",
   "execution_count": 8,
   "id": "a49ad04d",
   "metadata": {},
   "outputs": [],
   "source": [
    "import config\n",
    "from dataclasses import asdict"
   ]
  },
  {
   "cell_type": "code",
   "execution_count": 67,
   "id": "2ef0ea9b",
   "metadata": {},
   "outputs": [],
   "source": [
    "azureopenai=AzureChatOpenAI(**asdict(config.OpenAIConfig()))"
   ]
  },
  {
   "cell_type": "code",
   "execution_count": 59,
   "id": "1eb03062",
   "metadata": {},
   "outputs": [],
   "source": [
    "df=pd.read_excel(\"Tata Steel Vs JSW Steel.xlsx\")"
   ]
  },
  {
   "cell_type": "code",
   "execution_count": 60,
   "id": "6fb3b0ee",
   "metadata": {},
   "outputs": [],
   "source": [
    "template=PromptTemplate.from_template('''\n",
    "Extract the information provided in the given analysis, extract the exact number, do not provide any verbose. Sumamrize the results\n",
    "\n",
    "// Extract only the numbers ith a little context\n",
    "\n",
    "KPI\n",
    "----------\n",
    "{kpi}\n",
    "\n",
    "Analysis\n",
    "----------\n",
    "{analysis}\n",
    "''')"
   ]
  },
  {
   "cell_type": "code",
   "execution_count": 61,
   "id": "2ed6c073",
   "metadata": {},
   "outputs": [],
   "source": [
    "chain= template | azureopenai"
   ]
  },
  {
   "cell_type": "code",
   "execution_count": 62,
   "id": "36f6bb83",
   "metadata": {},
   "outputs": [],
   "source": [
    "ll=df.to_dict(orient='records')"
   ]
  },
  {
   "cell_type": "code",
   "execution_count": 63,
   "id": "8773054a",
   "metadata": {},
   "outputs": [],
   "source": [
    "import tqdm"
   ]
  },
  {
   "cell_type": "code",
   "execution_count": 64,
   "id": "8de31030",
   "metadata": {},
   "outputs": [
    {
     "name": "stderr",
     "output_type": "stream",
     "text": [
      "100%|█████████████████████████████████████████████████████████████████████████████████████████████████████████████████████████████████████| 18/18 [35:56<00:00, 119.80s/it]\n"
     ]
    }
   ],
   "source": [
    "final_df=[]\n",
    "for info in tqdm.tqdm(ll):\n",
    "    \n",
    "    out_tata=chain.invoke({\n",
    "        'kpi':info['KPI'],\n",
    "        \"analysis\":info[\"Tata steel Analysis\"]\n",
    "    })\n",
    "    out_jsw=chain.invoke({\n",
    "        'kpi':info['KPI'],\n",
    "        \"analysis\":info[\"JSW Steel Analysis\"]\n",
    "    })\n",
    "    final_df.append({\n",
    "        \"KPI\":info['KPI'],\n",
    "        \"Tata steel Analysis\":out_tata.content,\n",
    "        \"JSW Steel Analysis\":out_jsw.content\n",
    "    })"
   ]
  },
  {
   "cell_type": "code",
   "execution_count": 66,
   "id": "39fd0d0c",
   "metadata": {},
   "outputs": [],
   "source": [
    "pd.DataFrame(final_df).to_csv(\"Extracted Data gpt4.csv\",index=False)"
   ]
  },
  {
   "cell_type": "code",
   "execution_count": 69,
   "id": "6e7ec3ad",
   "metadata": {},
   "outputs": [],
   "source": [
    "template=PromptTemplate.from_template('''\n",
    "Given the data Below can you provide a comparative summary between the performance of Tata Steels and JSW Steels for the given KPIS\n",
    "\n",
    "KPI\n",
    "----------\n",
    "{kpi}\n",
    "\n",
    "Analysis Tata Steel\n",
    "----------\n",
    "{tataanalysis}\n",
    "\n",
    "Analysis JSW Steel\n",
    "----------\n",
    "{jswanalysis}\n",
    "\n",
    "''')"
   ]
  },
  {
   "cell_type": "code",
   "execution_count": 70,
   "id": "38329c07",
   "metadata": {},
   "outputs": [],
   "source": [
    "chain= template | azureopenai"
   ]
  },
  {
   "cell_type": "code",
   "execution_count": 71,
   "id": "3ffbbe59",
   "metadata": {},
   "outputs": [
    {
     "name": "stderr",
     "output_type": "stream",
     "text": [
      "100%|██████████████████████████████████████████████████████████████████████████████████████████████████████████████████████████████████████| 18/18 [00:53<00:00,  2.95s/it]\n"
     ]
    }
   ],
   "source": [
    "final_df=[]\n",
    "for info in tqdm.tqdm(ll):\n",
    "    \n",
    "    out_tata=chain.invoke({\n",
    "        'kpi':info['KPI'],\n",
    "        \"tataanalysis\":info[\"Tata steel Analysis\"],\n",
    "        \"jswanalysis\":info[\"JSW Steel Analysis\"]\n",
    "    })\n",
    "    final_df.append({\n",
    "        \"KPI\":info['KPI'],\n",
    "        \"Tata steel Analysis\":info[\"Tata steel Analysis\"],\n",
    "        \"JSW Steel Analysis\":info[\"JSW Steel Analysis\"],\n",
    "        \"Summary\": out_tata.content\n",
    "    })"
   ]
  },
  {
   "cell_type": "code",
   "execution_count": 73,
   "id": "ef2e5a7f",
   "metadata": {},
   "outputs": [],
   "source": [
    "pd.DataFrame(final_df).to_csv(\"ExtarctedSummary.csv\",index=False)"
   ]
  },
  {
   "cell_type": "code",
   "execution_count": null,
   "id": "92c8d8b9",
   "metadata": {},
   "outputs": [],
   "source": []
  }
 ],
 "metadata": {
  "kernelspec": {
   "display_name": "Python 3 (ipykernel)",
   "language": "python",
   "name": "python3"
  },
  "language_info": {
   "codemirror_mode": {
    "name": "ipython",
    "version": 3
   },
   "file_extension": ".py",
   "mimetype": "text/x-python",
   "name": "python",
   "nbconvert_exporter": "python",
   "pygments_lexer": "ipython3",
   "version": "3.11.5"
  }
 },
 "nbformat": 4,
 "nbformat_minor": 5
}
